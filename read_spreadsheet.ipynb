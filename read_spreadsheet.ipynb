{
 "cells": [
  {
   "cell_type": "code",
   "execution_count": 187,
   "id": "10c2bb23-88af-4a85-b4d9-f8c2588d905b",
   "metadata": {},
   "outputs": [],
   "source": [
    "import pandas as pd\n",
    "import json\n",
    "import yaml\n",
    "from pprint import pprint\n",
    "import matplotlib.pyplot as plt\n",
    "import japanize_matplotlib"
   ]
  },
  {
   "cell_type": "code",
   "execution_count": 9,
   "id": "282840c4-b5d3-4209-b53a-e23256241dc5",
   "metadata": {},
   "outputs": [
    {
     "name": "stdout",
     "output_type": "stream",
     "text": [
      "Please visit this URL to authorize this application: https://accounts.google.com/o/oauth2/auth?response_type=code&client_id=115923328448-snk6uc0k6skj6j0h4vsc6k528dpg1v8b.apps.googleusercontent.com&redirect_uri=http%3A%2F%2Flocalhost%3A62488%2F&scope=https%3A%2F%2Fwww.googleapis.com%2Fauth%2Fspreadsheets+https%3A%2F%2Fwww.googleapis.com%2Fauth%2Fdrive&state=JCDqegwhIWdDOp9qglwbQI3kdRiXcw&access_type=offline\n"
     ]
    }
   ],
   "source": [
    "import gspread\n",
    "import pathlib\n",
    "\n",
    "# 認証\n",
    "secret_path = pathlib.Path.home() / \"gcloud\" / \"client_secret_pojc_test.json\"\n",
    "gc = gspread.oauth(\n",
    "    credentials_filename=secret_path, \n",
    "    authorized_user_filename=\"authorized_user.json\", \n",
    ")\n"
   ]
  },
  {
   "cell_type": "code",
   "execution_count": 10,
   "id": "11bbb980-ec6a-4b8c-a477-d6ae0aa06fc0",
   "metadata": {},
   "outputs": [],
   "source": [
    "wb = gc.open_by_key(\"1BPhs4nPOjcNGaOI-D2zFKAI3lBO8JtlZXBSj-dA4-Ck\")\n",
    "ws = wb.get_worksheet(0)"
   ]
  },
  {
   "cell_type": "code",
   "execution_count": 11,
   "id": "7aaf05c4-e91e-457e-b5bd-c94aec1a1a0b",
   "metadata": {},
   "outputs": [],
   "source": [
    "ws_values = ws.get_values()\n",
    "df_ws = pd.DataFrame(ws_values[1:], columns=ws_values[0])"
   ]
  },
  {
   "cell_type": "code",
   "execution_count": 12,
   "id": "91ea8d16-b825-4d82-8ec0-9c3e51fa2d27",
   "metadata": {},
   "outputs": [
    {
     "data": {
      "text/html": [
       "<div>\n",
       "<style scoped>\n",
       "    .dataframe tbody tr th:only-of-type {\n",
       "        vertical-align: middle;\n",
       "    }\n",
       "\n",
       "    .dataframe tbody tr th {\n",
       "        vertical-align: top;\n",
       "    }\n",
       "\n",
       "    .dataframe thead th {\n",
       "        text-align: right;\n",
       "    }\n",
       "</style>\n",
       "<table border=\"1\" class=\"dataframe\">\n",
       "  <thead>\n",
       "    <tr style=\"text-align: right;\">\n",
       "      <th></th>\n",
       "      <th>タイムスタンプ</th>\n",
       "      <th>回答者</th>\n",
       "      <th>演者</th>\n",
       "      <th>難易度</th>\n",
       "      <th>多彩性度</th>\n",
       "      <th>操作安定度</th>\n",
       "      <th>演技構成</th>\n",
       "    </tr>\n",
       "  </thead>\n",
       "  <tbody>\n",
       "    <tr>\n",
       "      <th>0</th>\n",
       "      <td>2024/01/04 0:08:16</td>\n",
       "      <td>Alice</td>\n",
       "      <td>アリス</td>\n",
       "      <td>1ディアボロでは難易度の高い技をしているが、1ディアボロの技しか行っていなかった。</td>\n",
       "      <td>ボディ系の技とシンプルなインテグラルのみで幅としてはイマイチだった。</td>\n",
       "      <td>基本的に綺麗に技を行なっているが、たまにディアボロに引きずられていることがあった。</td>\n",
       "      <td>演技中のキャラ付けと曲と技の感じが良かった。</td>\n",
       "    </tr>\n",
       "    <tr>\n",
       "      <th>1</th>\n",
       "      <td>2024/01/04 0:08:57</td>\n",
       "      <td>Alice</td>\n",
       "      <td>チャーリー</td>\n",
       "      <td>繊細なコントロールが要求されるナンバーズのコラム・ハイトス系統が演技のほとんどを占めており、...</td>\n",
       "      <td>コラム・ハイトス系統がほとんどを占める演技であったが、様々な軌道でディアボロを動かすことで多...</td>\n",
       "      <td>よどみない操作かつミスのない演技で、非常に安定していた。ディアボロが喜んでいた。</td>\n",
       "      <td>黒を基調とした衣装のため、赤いディアボロが映えていた。序盤から2ディアボロをスタートする構成...</td>\n",
       "    </tr>\n",
       "  </tbody>\n",
       "</table>\n",
       "</div>"
      ],
      "text/plain": [
       "              タイムスタンプ    回答者     演者  \\\n",
       "0  2024/01/04 0:08:16  Alice    アリス   \n",
       "1  2024/01/04 0:08:57  Alice  チャーリー   \n",
       "\n",
       "                                                 難易度  \\\n",
       "0          1ディアボロでは難易度の高い技をしているが、1ディアボロの技しか行っていなかった。   \n",
       "1  繊細なコントロールが要求されるナンバーズのコラム・ハイトス系統が演技のほとんどを占めており、...   \n",
       "\n",
       "                                                多彩性度  \\\n",
       "0                 ボディ系の技とシンプルなインテグラルのみで幅としてはイマイチだった。   \n",
       "1  コラム・ハイトス系統がほとんどを占める演技であったが、様々な軌道でディアボロを動かすことで多...   \n",
       "\n",
       "                                       操作安定度  \\\n",
       "0  基本的に綺麗に技を行なっているが、たまにディアボロに引きずられていることがあった。   \n",
       "1   よどみない操作かつミスのない演技で、非常に安定していた。ディアボロが喜んでいた。   \n",
       "\n",
       "                                                演技構成  \n",
       "0                             演技中のキャラ付けと曲と技の感じが良かった。  \n",
       "1  黒を基調とした衣装のため、赤いディアボロが映えていた。序盤から2ディアボロをスタートする構成...  "
      ]
     },
     "execution_count": 12,
     "metadata": {},
     "output_type": "execute_result"
    }
   ],
   "source": [
    "df_ws"
   ]
  },
  {
   "cell_type": "markdown",
   "id": "37c4ce72-b7b4-4960-a727-75db3bcd7ec0",
   "metadata": {},
   "source": [
    "## 実際に投げてみる"
   ]
  },
  {
   "cell_type": "code",
   "execution_count": 17,
   "id": "599f7624-79a9-480c-879a-f049a2b25619",
   "metadata": {},
   "outputs": [],
   "source": [
    "import sys\n",
    "import openai\n",
    "\n",
    "sys.path.append(\"./src\")\n",
    "\n",
    "from judge_gpt.auth import set_apikey_from_file\n",
    "from judge_gpt.tools import make_inputs_from_df\n",
    "\n",
    "set_apikey_from_file(\"./openai.key\")"
   ]
  },
  {
   "cell_type": "code",
   "execution_count": 19,
   "id": "27ca32e7-497f-4db2-a120-fc01cb3c55a6",
   "metadata": {},
   "outputs": [],
   "source": [
    "client = openai.OpenAI()"
   ]
  },
  {
   "cell_type": "code",
   "execution_count": 13,
   "id": "77ce7cc2-867b-47d8-b13f-72afcfd32ca3",
   "metadata": {},
   "outputs": [
    {
     "name": "stdout",
     "output_type": "stream",
     "text": [
      "['Alice']\n"
     ]
    }
   ],
   "source": [
    "judge_names = df_ws[\"回答者\"].unique()\n",
    "print(judge_names)"
   ]
  },
  {
   "cell_type": "code",
   "execution_count": 83,
   "id": "751f4b4d-cf70-4385-85f9-efedca26455c",
   "metadata": {},
   "outputs": [
    {
     "name": "stdout",
     "output_type": "stream",
     "text": [
      "演者:アリス\n",
      "難易度:1ディアボロでは難易度の高い技をしているが、1ディアボロの技しか行っていなかった。\n",
      "多彩性度：ボディ系の技とシンプルなインテグラルのみで幅としてはイマイチだった。\n",
      "操作安定度:基本的に綺麗に技を行なっているが、たまにディアボロに引きずられていることがあった。\n",
      "演技構成度:演技中のキャラ付けと曲と技の感じが良かった。\n",
      "演者:チャーリー\n",
      "難易度:繊細なコントロールが要求されるナンバーズのコラム・ハイトス系統が演技のほとんどを占めており、極めて高難易度な演技であった。\n",
      "多彩性度：コラム・ハイトス系統がほとんどを占める演技であったが、様々な軌道でディアボロを動かすことで多彩度を出せていた\n",
      "操作安定度:よどみない操作かつミスのない演技で、非常に安定していた。ディアボロが喜んでいた。\n",
      "演技構成度:黒を基調とした衣装のため、赤いディアボロが映えていた。序盤から2ディアボロをスタートする構成も見ごたえがあり非常に良かった。\n"
     ]
    }
   ],
   "source": [
    "judge_name = \"Alice\"\n",
    "comment = make_comment(df_ws.query(f\"回答者 == '{judge_name}'\"))\n",
    "\n",
    "print(comment)"
   ]
  },
  {
   "cell_type": "code",
   "execution_count": 176,
   "id": "c4de3e4e-18bb-4929-a677-320dafff338c",
   "metadata": {},
   "outputs": [],
   "source": [
    "prompt=\"\"\"これからあなたにはジャグリングのパフォーマンスに関する評価コメントを読んでそれぞれの評価コメントを点数化してください。\n",
    "コメントは難易度、多彩性度、操作安定度、新奇性度、演技構成度の5つの観点で記載されています。それぞれの観点の定義と配点は以下の通りです。\n",
    "- 難易度（配点 35点）：技の要素における、難易度、数を評価する。 \n",
    "- 多彩性度（配点 15点）：演技中に行った技が多彩性に富んでいたかを評価する。\n",
    "- 操作安定度（配点 25点）：技の実施において、巧みさ、美しさ、洗練度合いを評価する。\n",
    "- 演技構成度（配点 25点）：演技開始から演技終了までにおいて、楽曲、衣装、技の順序、起承転結などの調和性を評価する。 \n",
    "これから一人の審査員のそれぞれの演者に対するコメントをもとに渡します。演者ごとに比較し順位をつけることを意識して、各項目の配点内で採点してください。\"\"\""
   ]
  },
  {
   "cell_type": "code",
   "execution_count": 177,
   "id": "b9cffefb-4848-4ebf-b2e4-d196f8850780",
   "metadata": {},
   "outputs": [],
   "source": [
    "with open(\"tools_conf.yaml\", \"r\") as f:\n",
    "    tools = [yaml.safe_load(f)]"
   ]
  },
  {
   "cell_type": "code",
   "execution_count": 178,
   "id": "de7ed997-5e4c-4533-b697-61b089df817e",
   "metadata": {},
   "outputs": [
    {
     "name": "stdout",
     "output_type": "stream",
     "text": [
      "[{'content': 'これからあなたにはジャグリングのパフォーマンスに関する評価コメントを読んでそれぞれの評価コメントを点数化してください。\\n'\n",
      "             'コメントは難易度、多彩性度、操作安定度、新奇性度、演技構成度の5つの観点で記載されています。それぞれの観点の定義と配点は以下の通りです。\\n'\n",
      "             '- 難易度（配点 35点）：技の要素における、難易度、数を評価する。 \\n'\n",
      "             '- 多彩性度（配点 15点）：演技中に行った技が多彩性に富んでいたかを評価する。\\n'\n",
      "             '- 操作安定度（配点 25点）：技の実施において、巧みさ、美しさ、洗練度合いを評価する。\\n'\n",
      "             '- 演技構成度（配点 25点）：演技開始から演技終了までにおいて、楽曲、衣装、技の順序、起承転結などの調和性を評価する。 \\n'\n",
      "             'これから一人の審査員のそれぞれの演者に対するコメントをもとに渡します。演者ごとに比較し順位をつけることを意識して、各項目の配点内で採点してください。',\n",
      "  'role': 'system'},\n",
      " {'content': '演者:アリス\\n'\n",
      "             '難易度:1ディアボロでは難易度の高い技をしているが、1ディアボロの技しか行っていなかった。\\n'\n",
      "             '多彩性度：ボディ系の技とシンプルなインテグラルのみで幅としてはイマイチだった。\\n'\n",
      "             '操作安定度:基本的に綺麗に技を行なっているが、たまにディアボロに引きずられていることがあった。\\n'\n",
      "             '演技構成度:演技中のキャラ付けと曲と技の感じが良かった。\\n'\n",
      "             '演者:チャーリー\\n'\n",
      "             '難易度:繊細なコントロールが要求されるナンバーズのコラム・ハイトス系統が演技のほとんどを占めており、極めて高難易度な演技であった。\\n'\n",
      "             '多彩性度：コラム・ハイトス系統がほとんどを占める演技であったが、様々な軌道でディアボロを動かすことで多彩度を出せていた\\n'\n",
      "             '操作安定度:よどみない操作かつミスのない演技で、非常に安定していた。ディアボロが喜んでいた。\\n'\n",
      "             '演技構成度:黒を基調とした衣装のため、赤いディアボロが映えていた。序盤から2ディアボロをスタートする構成も見ごたえがあり非常に良かった。',\n",
      "  'role': 'user'}]\n"
     ]
    }
   ],
   "source": [
    "message = [\n",
    "    {\"role\": \"system\", \"content\": prompt},\n",
    "] + [\n",
    "    {\"role\": \"user\", \"content\": comment},\n",
    "]\n",
    "\n",
    "pprint(message)"
   ]
  },
  {
   "cell_type": "code",
   "execution_count": 179,
   "id": "5191d3a6-3d77-4a6a-903e-7c8da55975d0",
   "metadata": {},
   "outputs": [],
   "source": [
    "res = client.chat.completions.create(\n",
    "    model=\"gpt-3.5-turbo\",\n",
    "    messages=message,\n",
    "    tools=tools,\n",
    "    tool_choice=\"auto\",\n",
    "    seed=43,\n",
    ")"
   ]
  },
  {
   "cell_type": "code",
   "execution_count": 180,
   "id": "38fe725c-5335-40e6-8802-468f6696ebf8",
   "metadata": {},
   "outputs": [],
   "source": [
    "res_message = res.choices[0].message\n",
    "# print(res_message)\n",
    "# tool_calls = res_message.tool_calls"
   ]
  },
  {
   "cell_type": "code",
   "execution_count": 186,
   "id": "7577b1f2-2e82-4e35-8030-ca414fa7602e",
   "metadata": {},
   "outputs": [
    {
     "name": "stdout",
     "output_type": "stream",
     "text": [
      "{'judge_results': [{'cleanliness': 20,\n",
      "                    'desc_cleanliness': '基本的に綺麗に技を行なっているが、たまにディアボロに引きずられていることがあった。',\n",
      "                    'desc_difficulty': '1ディアボロでは難易度の高い技をしているが、1ディアボロの技しか行っていなかった。',\n",
      "                    'desc_program_component': '演技中のキャラ付けと曲と技の感じが良かった。',\n",
      "                    'desc_variation': 'ボディ系の技とシンプルなインテグラルのみで幅としてはイマイチだった。',\n",
      "                    'difficulty': 35,\n",
      "                    'player_name': 'アリス',\n",
      "                    'program_component': 20,\n",
      "                    'variation': 5},\n",
      "                   {'cleanliness': 25,\n",
      "                    'desc_cleanliness': 'よどみない操作かつミスのない演技で、非常に安定していた。ディアボロが喜んでいた。',\n",
      "                    'desc_difficulty': '繊細なコントロールが要求されるナンバーズのコラム・ハイトス系統が演技のほとんどを占めており、極めて高難易度な演技であった。',\n",
      "                    'desc_program_component': '黒を基調とした衣装のため、赤いディアボロが映えていた。序盤から2ディアボロをスタートする構成も見ごたえがあり非常に良かった。',\n",
      "                    'desc_variation': 'コラム・ハイトス系統がほとんどを占める演技であったが、様々な軌道でディアボロを動かすことで多彩度を出せていた',\n",
      "                    'difficulty': 35,\n",
      "                    'player_name': 'チャーリー',\n",
      "                    'program_component': 25,\n",
      "                    'variation': 13}]}\n"
     ]
    }
   ],
   "source": [
    "judge_result = json.loads(\n",
    "    res_message.tool_calls[0].function.arguments\n",
    ")\n",
    "\n",
    "pprint(judge_result)\n",
    "\n",
    "judge_result = pd.DataFrame(judge_result[\"judge_results\"])"
   ]
  },
  {
   "cell_type": "code",
   "execution_count": 183,
   "id": "69d8f8aa-f046-4db1-acdb-a1992c2820a1",
   "metadata": {},
   "outputs": [],
   "source": [
    "judge_result[\"description\"] = judge_result[\"desc_difficulty\"].str.cat(\n",
    "    [\n",
    "        judge_result[\"desc_variation\"], \n",
    "        judge_result[\"desc_cleanliness\"],\n",
    "        judge_result[\"desc_program_component\"],\n",
    "    ],\n",
    "    sep=\"\\n\",\n",
    ")\n",
    "\n",
    "judge_result = judge_result.drop(columns=[\n",
    "    col for col in judge_result.columns if col.startswith(\"desc_\")\n",
    "])\n"
   ]
  },
  {
   "cell_type": "code",
   "execution_count": 184,
   "id": "ae4c0248-5f83-43ed-99dd-7ac3806afa09",
   "metadata": {},
   "outputs": [
    {
     "data": {
      "text/html": [
       "<div>\n",
       "<style scoped>\n",
       "    .dataframe tbody tr th:only-of-type {\n",
       "        vertical-align: middle;\n",
       "    }\n",
       "\n",
       "    .dataframe tbody tr th {\n",
       "        vertical-align: top;\n",
       "    }\n",
       "\n",
       "    .dataframe thead th {\n",
       "        text-align: right;\n",
       "    }\n",
       "</style>\n",
       "<table border=\"1\" class=\"dataframe\">\n",
       "  <thead>\n",
       "    <tr style=\"text-align: right;\">\n",
       "      <th></th>\n",
       "      <th>player_name</th>\n",
       "      <th>difficulty</th>\n",
       "      <th>variation</th>\n",
       "      <th>cleanliness</th>\n",
       "      <th>program_component</th>\n",
       "      <th>description</th>\n",
       "    </tr>\n",
       "  </thead>\n",
       "  <tbody>\n",
       "    <tr>\n",
       "      <th>0</th>\n",
       "      <td>アリス</td>\n",
       "      <td>35</td>\n",
       "      <td>5</td>\n",
       "      <td>20</td>\n",
       "      <td>20</td>\n",
       "      <td>1ディアボロでは難易度の高い技をしているが、1ディアボロの技しか行っていなかった。\\nボディ...</td>\n",
       "    </tr>\n",
       "    <tr>\n",
       "      <th>1</th>\n",
       "      <td>チャーリー</td>\n",
       "      <td>35</td>\n",
       "      <td>13</td>\n",
       "      <td>25</td>\n",
       "      <td>25</td>\n",
       "      <td>繊細なコントロールが要求されるナンバーズのコラム・ハイトス系統が演技のほとんどを占めており、...</td>\n",
       "    </tr>\n",
       "  </tbody>\n",
       "</table>\n",
       "</div>"
      ],
      "text/plain": [
       "  player_name  difficulty  variation  cleanliness  program_component  \\\n",
       "0         アリス          35          5           20                 20   \n",
       "1       チャーリー          35         13           25                 25   \n",
       "\n",
       "                                         description  \n",
       "0  1ディアボロでは難易度の高い技をしているが、1ディアボロの技しか行っていなかった。\\nボディ...  \n",
       "1  繊細なコントロールが要求されるナンバーズのコラム・ハイトス系統が演技のほとんどを占めており、...  "
      ]
     },
     "metadata": {},
     "output_type": "display_data"
    }
   ],
   "source": [
    "display(judge_result)"
   ]
  },
  {
   "cell_type": "code",
   "execution_count": 188,
   "id": "2e0a4440-d66e-4125-ac18-04ba0f9cfca4",
   "metadata": {},
   "outputs": [
    {
     "data": {
      "image/png": "[encoded data removed]",
      "text/plain": [
       "<Figure size 640x480 with 1 Axes>"
      ]
     },
     "metadata": {},
     "output_type": "display_data"
    }
   ],
   "source": [
    "fig, ax = plt.subplots()\n",
    "\n",
    "judge_result.set_index(\"player_name\").plot(kind=\"bar\", ax=ax)\n",
    "ax.grid()"
   ]
  },
  {
   "cell_type": "code",
   "execution_count": null,
   "id": "26266f27-df77-4c97-ad28-1fafbd546e22",
   "metadata": {},
   "outputs": [],
   "source": []
  }
 ],
 "metadata": {
  "kernelspec": {
   "display_name": "Python 3 (ipykernel)",
   "language": "python",
   "name": "python3"
  },
  "language_info": {
   "codemirror_mode": {
    "name": "ipython",
    "version": 3
   },
   "file_extension": ".py",
   "mimetype": "text/x-python",
   "name": "python",
   "nbconvert_exporter": "python",
   "pygments_lexer": "ipython3",
   "version": "3.11.6"
  }
 },
 "nbformat": 4,
 "nbformat_minor": 5
}
