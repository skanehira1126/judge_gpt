{
 "cells": [
  {
   "cell_type": "code",
   "execution_count": 18,
   "id": "10c2bb23-88af-4a85-b4d9-f8c2588d905b",
   "metadata": {},
   "outputs": [],
   "source": [
    "import json\n",
    "import pathlib\n",
    "from pprint import pprint\n",
    "import sys\n",
    "\n",
    "import openai\n",
    "import pandas as pd\n",
    "\n",
    "from matplotlib.pyplot as plt\n",
    "\n",
    "from judge_gpt.auth import auth_gcloud, set_openai_apikey_from_file\n",
    "from judge_gpt.conf import read_conf\n",
    "from judge_gpt.tools import make_inputs_from_df"
   ]
  },
  {
   "cell_type": "markdown",
   "id": "652052b8-fa51-414c-aa4e-56af3e3c20d3",
   "metadata": {},
   "source": [
    "## 認証類"
   ]
  },
  {
   "cell_type": "code",
   "execution_count": 4,
   "id": "282840c4-b5d3-4209-b53a-e23256241dc5",
   "metadata": {},
   "outputs": [],
   "source": [
    "# 設定ファイル\n",
    "conf_judge, conf_response_schema = read_conf(\n",
    "    \"./conf/judge.yaml\",\n",
    "    \"./conf/response_schema.yaml\",\n",
    ")\n",
    "\n",
    "# 認証\n",
    "gc = auth_gcloud(conf_judge[\"gss\"][\"gcloud\"])\n",
    "set_openai_apikey_from_file(conf_judge[\"chatgpt\"][\"secrets\"])"
   ]
  },
  {
   "cell_type": "markdown",
   "id": "f7162050-d94b-4124-916b-a9d7e4bd07ab",
   "metadata": {},
   "source": [
    "## 読み込み"
   ]
  },
  {
   "cell_type": "code",
   "execution_count": 6,
   "id": "11bbb980-ec6a-4b8c-a477-d6ae0aa06fc0",
   "metadata": {},
   "outputs": [
    {
     "data": {
      "text/html": [
       "<div>\n",
       "<style scoped>\n",
       "    .dataframe tbody tr th:only-of-type {\n",
       "        vertical-align: middle;\n",
       "    }\n",
       "\n",
       "    .dataframe tbody tr th {\n",
       "        vertical-align: top;\n",
       "    }\n",
       "\n",
       "    .dataframe thead th {\n",
       "        text-align: right;\n",
       "    }\n",
       "</style>\n",
       "<table border=\"1\" class=\"dataframe\">\n",
       "  <thead>\n",
       "    <tr style=\"text-align: right;\">\n",
       "      <th></th>\n",
       "      <th>タイムスタンプ</th>\n",
       "      <th>回答者</th>\n",
       "      <th>演者</th>\n",
       "      <th>難易度</th>\n",
       "      <th>多彩性度</th>\n",
       "      <th>操作安定度</th>\n",
       "      <th>演技構成</th>\n",
       "    </tr>\n",
       "  </thead>\n",
       "  <tbody>\n",
       "    <tr>\n",
       "      <th>0</th>\n",
       "      <td>2024/01/04 0:08:16</td>\n",
       "      <td>Alice</td>\n",
       "      <td>アリス</td>\n",
       "      <td>1ディアボロでは難易度の高い技をしているが、1ディアボロの技しか行っていなかった。</td>\n",
       "      <td>ボディ系の技とシンプルなインテグラルのみで幅としてはイマイチだった。</td>\n",
       "      <td>基本的に綺麗に技を行なっているが、たまにディアボロに引きずられていることがあった。</td>\n",
       "      <td>演技中のキャラ付けと曲と技の感じが良かった。</td>\n",
       "    </tr>\n",
       "    <tr>\n",
       "      <th>1</th>\n",
       "      <td>2024/01/04 0:08:57</td>\n",
       "      <td>Alice</td>\n",
       "      <td>チャーリー</td>\n",
       "      <td>繊細なコントロールが要求されるナンバーズのコラム・ハイトス系統が演技のほとんどを占めており、...</td>\n",
       "      <td>コラム・ハイトス系統がほとんどを占める演技であったが、様々な軌道でディアボロを動かすことで多...</td>\n",
       "      <td>よどみない操作かつミスのない演技で、非常に安定していた。ディアボロが喜んでいた。</td>\n",
       "      <td>黒を基調とした衣装のため、赤いディアボロが映えていた。序盤から2ディアボロをスタートする構成...</td>\n",
       "    </tr>\n",
       "  </tbody>\n",
       "</table>\n",
       "</div>"
      ],
      "text/plain": [
       "              タイムスタンプ    回答者     演者  \\\n",
       "0  2024/01/04 0:08:16  Alice    アリス   \n",
       "1  2024/01/04 0:08:57  Alice  チャーリー   \n",
       "\n",
       "                                                 難易度  \\\n",
       "0          1ディアボロでは難易度の高い技をしているが、1ディアボロの技しか行っていなかった。   \n",
       "1  繊細なコントロールが要求されるナンバーズのコラム・ハイトス系統が演技のほとんどを占めており、...   \n",
       "\n",
       "                                                多彩性度  \\\n",
       "0                 ボディ系の技とシンプルなインテグラルのみで幅としてはイマイチだった。   \n",
       "1  コラム・ハイトス系統がほとんどを占める演技であったが、様々な軌道でディアボロを動かすことで多...   \n",
       "\n",
       "                                       操作安定度  \\\n",
       "0  基本的に綺麗に技を行なっているが、たまにディアボロに引きずられていることがあった。   \n",
       "1   よどみない操作かつミスのない演技で、非常に安定していた。ディアボロが喜んでいた。   \n",
       "\n",
       "                                                演技構成  \n",
       "0                             演技中のキャラ付けと曲と技の感じが良かった。  \n",
       "1  黒を基調とした衣装のため、赤いディアボロが映えていた。序盤から2ディアボロをスタートする構成...  "
      ]
     },
     "metadata": {},
     "output_type": "display_data"
    }
   ],
   "source": [
    "wb = gc.open_by_key(conf_judge[\"gss\"][\"gss_key\"])\n",
    "ws = wb.get_worksheet(0)\n",
    "\n",
    "ws_values = ws.get_values()\n",
    "df_ws = pd.DataFrame(ws_values[1:], columns=ws_values[0])\n",
    "\n",
    "display(df_ws)"
   ]
  },
  {
   "cell_type": "code",
   "execution_count": 7,
   "id": "3c9fc253-89ac-41ac-be3c-3502edfc8e17",
   "metadata": {},
   "outputs": [
    {
     "name": "stdout",
     "output_type": "stream",
     "text": [
      "['Alice']\n"
     ]
    }
   ],
   "source": [
    "judge_names = df_ws[\"回答者\"].unique()\n",
    "print(judge_names)"
   ]
  },
  {
   "cell_type": "code",
   "execution_count": 8,
   "id": "53a64206-4629-48ab-a5c1-b3f3ff04ae82",
   "metadata": {},
   "outputs": [
    {
     "name": "stdout",
     "output_type": "stream",
     "text": [
      "演者:アリス\n",
      "難易度:1ディアボロでは難易度の高い技をしているが、1ディアボロの技しか行っていなかった。\n",
      "多彩性度：ボディ系の技とシンプルなインテグラルのみで幅としてはイマイチだった。\n",
      "操作安定度:基本的に綺麗に技を行なっているが、たまにディアボロに引きずられていることがあった。\n",
      "演技構成度:演技中のキャラ付けと曲と技の感じが良かった。\n",
      "演者:チャーリー\n",
      "難易度:繊細なコントロールが要求されるナンバーズのコラム・ハイトス系統が演技のほとんどを占めており、極めて高難易度な演技であった。\n",
      "多彩性度：コラム・ハイトス系統がほとんどを占める演技であったが、様々な軌道でディアボロを動かすことで多彩度を出せていた\n",
      "操作安定度:よどみない操作かつミスのない演技で、非常に安定していた。ディアボロが喜んでいた。\n",
      "演技構成度:黒を基調とした衣装のため、赤いディアボロが映えていた。序盤から2ディアボロをスタートする構成も見ごたえがあり非常に良かった。\n"
     ]
    }
   ],
   "source": [
    "judge_name = \"Alice\"\n",
    "comment = make_inputs_from_df(df_ws.query(f\"回答者 == '{judge_name}'\"))\n",
    "\n",
    "print(comment)"
   ]
  },
  {
   "cell_type": "markdown",
   "id": "37c4ce72-b7b4-4960-a727-75db3bcd7ec0",
   "metadata": {},
   "source": [
    "## 実際に投げてみる"
   ]
  },
  {
   "cell_type": "code",
   "execution_count": 9,
   "id": "27ca32e7-497f-4db2-a120-fc01cb3c55a6",
   "metadata": {},
   "outputs": [],
   "source": [
    "client = openai.OpenAI()"
   ]
  },
  {
   "cell_type": "code",
   "execution_count": 14,
   "id": "de7ed997-5e4c-4533-b697-61b089df817e",
   "metadata": {},
   "outputs": [
    {
     "name": "stdout",
     "output_type": "stream",
     "text": [
      "[{'content': 'これからあなたにはジャグリングのパフォーマンスに関する評価コメントを読んでそれぞれの評価コメントを点数化してください。\\n'\n",
      "             'コメントは難易度、多彩性度、操作安定度、新奇性度、演技構成度の5つの観点で記載されています。それぞれの観点の定義と配点は以下の通りです。\\n'\n",
      "             '- 難易度（配点 35点）：技の要素における、難易度、数を評価する。\\n'\n",
      "             '- 多彩性度（配点 15点）：演技中に行った技が多彩性に富んでいたかを評価する。\\n'\n",
      "             '- 操作安定度（配点 25点）：技の実施において、巧みさ、美しさ、洗練度合いを評価する。\\n'\n",
      "             '- 演技構成度（配点 25点）：演技開始から演技終了までにおいて、楽曲、衣装、技の順序、起承転結などの調和性を評価する。\\n'\n",
      "             'これから一人の審査員のそれぞれの演者に対するコメントをもとに渡します。演者ごとに比較し順位をつけることを意識して、各項目の配点内で採点してください。\\n',\n",
      "  'role': 'system'},\n",
      " {'content': '演者:アリス\\n'\n",
      "             '難易度:1ディアボロでは難易度の高い技をしているが、1ディアボロの技しか行っていなかった。\\n'\n",
      "             '多彩性度：ボディ系の技とシンプルなインテグラルのみで幅としてはイマイチだった。\\n'\n",
      "             '操作安定度:基本的に綺麗に技を行なっているが、たまにディアボロに引きずられていることがあった。\\n'\n",
      "             '演技構成度:演技中のキャラ付けと曲と技の感じが良かった。\\n'\n",
      "             '演者:チャーリー\\n'\n",
      "             '難易度:繊細なコントロールが要求されるナンバーズのコラム・ハイトス系統が演技のほとんどを占めており、極めて高難易度な演技であった。\\n'\n",
      "             '多彩性度：コラム・ハイトス系統がほとんどを占める演技であったが、様々な軌道でディアボロを動かすことで多彩度を出せていた\\n'\n",
      "             '操作安定度:よどみない操作かつミスのない演技で、非常に安定していた。ディアボロが喜んでいた。\\n'\n",
      "             '演技構成度:黒を基調とした衣装のため、赤いディアボロが映えていた。序盤から2ディアボロをスタートする構成も見ごたえがあり非常に良かった。',\n",
      "  'role': 'user'}]\n"
     ]
    }
   ],
   "source": [
    "message = [\n",
    "    {\"role\": \"system\", \"content\": conf_judge[\"chatgpt\"][\"prompt_judge\"]},\n",
    "] + [\n",
    "    {\"role\": \"user\", \"content\": comment},\n",
    "]\n",
    "\n",
    "pprint(message)"
   ]
  },
  {
   "cell_type": "code",
   "execution_count": 15,
   "id": "5191d3a6-3d77-4a6a-903e-7c8da55975d0",
   "metadata": {},
   "outputs": [],
   "source": [
    "res = client.chat.completions.create(\n",
    "    model=conf_judge[\"chatgpt\"][\"model\"],\n",
    "    messages=message,\n",
    "    tools=[conf_response_schema],\n",
    "    tool_choice=\"auto\",\n",
    "    seed=43,\n",
    ")"
   ]
  },
  {
   "cell_type": "code",
   "execution_count": 16,
   "id": "38fe725c-5335-40e6-8802-468f6696ebf8",
   "metadata": {},
   "outputs": [],
   "source": [
    "res_message = res.choices[0].message\n",
    "# print(res_message)\n",
    "# tool_calls = res_message.tool_calls"
   ]
  },
  {
   "cell_type": "code",
   "execution_count": 19,
   "id": "7577b1f2-2e82-4e35-8030-ca414fa7602e",
   "metadata": {},
   "outputs": [
    {
     "name": "stdout",
     "output_type": "stream",
     "text": [
      "{'judge_results': [{'cleanliness': 3,\n",
      "                    'desc_cleanliness': '基本的に綺麗に技を行なっているが、たまにディアボロに引きずられていることがあった。',\n",
      "                    'desc_difficulty': '1ディアボロでは難易度の高い技をしているが、1ディアボロの技しか行っていなかった。',\n",
      "                    'desc_program_component': '演技中のキャラ付けと曲と技の感じが良かった。',\n",
      "                    'desc_variation': 'ボディ系の技とシンプルなインテグラルのみで幅としてはイマイチだった。',\n",
      "                    'difficulty': 5,\n",
      "                    'player_name': 'アリス',\n",
      "                    'program_component': 4,\n",
      "                    'variation': 2},\n",
      "                   {'cleanliness': 9,\n",
      "                    'desc_cleanliness': 'よどみない操作かつミスのない演技で、非常に安定していた。ディアボロが喜んでいた。',\n",
      "                    'desc_difficulty': '繊細なコントロールが要求されるナンバーズのコラム・ハイトス系統が演技のほとんどを占めており、極めて高難易度な演技であった。',\n",
      "                    'desc_program_component': '黒を基調とした衣装のため、赤いディアボロが映えていた。序盤から2ディアボロをスタートする構成も見ごたえがあり非常に良かった。',\n",
      "                    'desc_variation': 'コラム・ハイトス系統がほとんどを占める演技であったが、様々な軌道でディアボロを動かすことで多彩度を出せていた',\n",
      "                    'difficulty': 9,\n",
      "                    'player_name': 'チャーリー',\n",
      "                    'program_component': 8,\n",
      "                    'variation': 8}]}\n"
     ]
    }
   ],
   "source": [
    "judge_result = json.loads(\n",
    "    res_message.tool_calls[0].function.arguments\n",
    ")\n",
    "\n",
    "pprint(judge_result)\n",
    "\n",
    "judge_result = pd.DataFrame(judge_result[\"judge_results\"])"
   ]
  },
  {
   "cell_type": "code",
   "execution_count": 16,
   "id": "69d8f8aa-f046-4db1-acdb-a1992c2820a1",
   "metadata": {},
   "outputs": [],
   "source": [
    "judge_result[\"description\"] = judge_result[\"desc_difficulty\"].str.cat(\n",
    "    [\n",
    "        judge_result[\"desc_variation\"], \n",
    "        judge_result[\"desc_cleanliness\"],\n",
    "        judge_result[\"desc_program_component\"],\n",
    "    ],\n",
    "    sep=\"\\n\",\n",
    ")\n",
    "\n",
    "judge_result = judge_result.drop(columns=[\n",
    "    col for col in judge_result.columns if col.startswith(\"desc_\")\n",
    "])\n"
   ]
  },
  {
   "cell_type": "code",
   "execution_count": 20,
   "id": "ae4c0248-5f83-43ed-99dd-7ac3806afa09",
   "metadata": {},
   "outputs": [
    {
     "data": {
      "text/html": [
       "<div>\n",
       "<style scoped>\n",
       "    .dataframe tbody tr th:only-of-type {\n",
       "        vertical-align: middle;\n",
       "    }\n",
       "\n",
       "    .dataframe tbody tr th {\n",
       "        vertical-align: top;\n",
       "    }\n",
       "\n",
       "    .dataframe thead th {\n",
       "        text-align: right;\n",
       "    }\n",
       "</style>\n",
       "<table border=\"1\" class=\"dataframe\">\n",
       "  <thead>\n",
       "    <tr style=\"text-align: right;\">\n",
       "      <th></th>\n",
       "      <th>player_name</th>\n",
       "      <th>difficulty</th>\n",
       "      <th>desc_difficulty</th>\n",
       "      <th>variation</th>\n",
       "      <th>desc_variation</th>\n",
       "      <th>cleanliness</th>\n",
       "      <th>desc_cleanliness</th>\n",
       "      <th>program_component</th>\n",
       "      <th>desc_program_component</th>\n",
       "    </tr>\n",
       "  </thead>\n",
       "  <tbody>\n",
       "    <tr>\n",
       "      <th>0</th>\n",
       "      <td>アリス</td>\n",
       "      <td>5</td>\n",
       "      <td>1ディアボロでは難易度の高い技をしているが、1ディアボロの技しか行っていなかった。</td>\n",
       "      <td>2</td>\n",
       "      <td>ボディ系の技とシンプルなインテグラルのみで幅としてはイマイチだった。</td>\n",
       "      <td>3</td>\n",
       "      <td>基本的に綺麗に技を行なっているが、たまにディアボロに引きずられていることがあった。</td>\n",
       "      <td>4</td>\n",
       "      <td>演技中のキャラ付けと曲と技の感じが良かった。</td>\n",
       "    </tr>\n",
       "    <tr>\n",
       "      <th>1</th>\n",
       "      <td>チャーリー</td>\n",
       "      <td>9</td>\n",
       "      <td>繊細なコントロールが要求されるナンバーズのコラム・ハイトス系統が演技のほとんどを占めており、...</td>\n",
       "      <td>8</td>\n",
       "      <td>コラム・ハイトス系統がほとんどを占める演技であったが、様々な軌道でディアボロを動かすことで多...</td>\n",
       "      <td>9</td>\n",
       "      <td>よどみない操作かつミスのない演技で、非常に安定していた。ディアボロが喜んでいた。</td>\n",
       "      <td>8</td>\n",
       "      <td>黒を基調とした衣装のため、赤いディアボロが映えていた。序盤から2ディアボロをスタートする構成...</td>\n",
       "    </tr>\n",
       "  </tbody>\n",
       "</table>\n",
       "</div>"
      ],
      "text/plain": [
       "  player_name  difficulty                                    desc_difficulty  \\\n",
       "0         アリス           5          1ディアボロでは難易度の高い技をしているが、1ディアボロの技しか行っていなかった。   \n",
       "1       チャーリー           9  繊細なコントロールが要求されるナンバーズのコラム・ハイトス系統が演技のほとんどを占めており、...   \n",
       "\n",
       "   variation                                     desc_variation  cleanliness  \\\n",
       "0          2                 ボディ系の技とシンプルなインテグラルのみで幅としてはイマイチだった。            3   \n",
       "1          8  コラム・ハイトス系統がほとんどを占める演技であったが、様々な軌道でディアボロを動かすことで多...            9   \n",
       "\n",
       "                            desc_cleanliness  program_component  \\\n",
       "0  基本的に綺麗に技を行なっているが、たまにディアボロに引きずられていることがあった。                  4   \n",
       "1   よどみない操作かつミスのない演技で、非常に安定していた。ディアボロが喜んでいた。                  8   \n",
       "\n",
       "                              desc_program_component  \n",
       "0                             演技中のキャラ付けと曲と技の感じが良かった。  \n",
       "1  黒を基調とした衣装のため、赤いディアボロが映えていた。序盤から2ディアボロをスタートする構成...  "
      ]
     },
     "metadata": {},
     "output_type": "display_data"
    }
   ],
   "source": [
    "display(judge_result)"
   ]
  },
  {
   "cell_type": "code",
   "execution_count": 21,
   "id": "2e0a4440-d66e-4125-ac18-04ba0f9cfca4",
   "metadata": {},
   "outputs": [
    {
     "ename": "NameError",
     "evalue": "name 'plt' is not defined",
     "output_type": "error",
     "traceback": [
      "\u001b[0;31m---------------------------------------------------------------------------\u001b[0m",
      "\u001b[0;31mNameError\u001b[0m                                 Traceback (most recent call last)",
      "Cell \u001b[0;32mIn[21], line 1\u001b[0m\n\u001b[0;32m----> 1\u001b[0m fig, ax \u001b[38;5;241m=\u001b[39m \u001b[43mplt\u001b[49m\u001b[38;5;241m.\u001b[39msubplots()\n\u001b[1;32m      3\u001b[0m judge_result\u001b[38;5;241m.\u001b[39mset_index(\u001b[38;5;124m\"\u001b[39m\u001b[38;5;124mplayer_name\u001b[39m\u001b[38;5;124m\"\u001b[39m)\u001b[38;5;241m.\u001b[39mplot(kind\u001b[38;5;241m=\u001b[39m\u001b[38;5;124m\"\u001b[39m\u001b[38;5;124mbar\u001b[39m\u001b[38;5;124m\"\u001b[39m, ax\u001b[38;5;241m=\u001b[39max)\n\u001b[1;32m      4\u001b[0m ax\u001b[38;5;241m.\u001b[39mgrid()\n",
      "\u001b[0;31mNameError\u001b[0m: name 'plt' is not defined"
     ]
    }
   ],
   "source": [
    "fig, ax = plt.subplots()\n",
    "\n",
    "judge_result.set_index(\"player_name\").plot(kind=\"bar\", ax=ax)\n",
    "ax.grid()"
   ]
  },
  {
   "cell_type": "code",
   "execution_count": null,
   "id": "26266f27-df77-4c97-ad28-1fafbd546e22",
   "metadata": {},
   "outputs": [],
   "source": []
  }
 ],
 "metadata": {
  "kernelspec": {
   "display_name": "judge_gpt",
   "language": "python",
   "name": "judge_gpt"
  },
  "language_info": {
   "codemirror_mode": {
    "name": "ipython",
    "version": 3
   },
   "file_extension": ".py",
   "mimetype": "text/x-python",
   "name": "python",
   "nbconvert_exporter": "python",
   "pygments_lexer": "ipython3",
   "version": "3.11.3"
  }
 },
 "nbformat": 4,
 "nbformat_minor": 5
}
