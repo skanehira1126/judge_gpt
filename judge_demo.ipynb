{
 "cells": [
  {
   "cell_type": "code",
   "execution_count": null,
   "id": "2d289316-fbf1-4b5b-ada9-9e28d2bc513b",
   "metadata": {},
   "outputs": [],
   "source": [
    "# パッケージ更新の場合にはこれを実施\n",
    "# !rye sync"
   ]
  },
  {
   "cell_type": "code",
   "execution_count": null,
   "id": "10c2bb23-88af-4a85-b4d9-f8c2588d905b",
   "metadata": {},
   "outputs": [],
   "source": [
    "import json\n",
    "import pathlib\n",
    "from pprint import pprint\n",
    "import sys\n",
    "\n",
    "import openai\n",
    "import numpy as np\n",
    "import pandas as pd\n",
    "import matplotlib.pyplot as plt\n",
    "import japanize_matplotlib\n",
    "from tqdm.auto import tqdm\n",
    "import gspread\n",
    "\n",
    "from judge_gpt import JudgeGPT, ColumnInfo\n",
    "from judge_gpt.auth import auth_gcloud, set_openai_apikey_from_file\n",
    "from judge_gpt.conf import read_conf\n",
    "from judge_gpt.gss_reader import GSSReader\n",
    "\n",
    "\n",
    "def plot_judge_stats(df_judge: pd.DataFrame, players: list[str]):\n",
    "    agg_df = df_judge.groupby(\"judge\", as_index=False).agg(\n",
    "        player_count=(\"player_name\", lambda x : len(set(x))),\n",
    "        stats_difficulty_mean=(\"difficulty\", \"mean\"),\n",
    "        stats_variation_mean=(\"variation\", \"mean\"),\n",
    "        stats_refined_mean=(\"refined\", \"mean\"),\n",
    "        stats_performance_mean=(\"performance\", \"mean\"),\n",
    "        stats_difficulty_std=(\"difficulty\", \"std\"),\n",
    "        stats_variation_std=(\"variation\", \"std\"),\n",
    "        stats_refined_std=(\"refined\", \"std\"),\n",
    "        stats_performance_std=(\"performance\", \"std\"),\n",
    "    )\n",
    "    \n",
    "    assert (agg_df[\"player_count\"] == len(players)).all(), \"Judge result is missing\"\n",
    "    \n",
    "    agg_df = agg_df.set_index(\"judge\").T\n",
    "    display(agg_df)\n",
    "    \n",
    "    fig, (ax1, ax2) = plt.subplots(1, 2, figsize=(8, 4))\n",
    "    agg_df.loc[[\n",
    "        \"stats_difficulty_mean\",\n",
    "        \"stats_variation_mean\",\n",
    "        \"stats_refined_mean\",\n",
    "        \"stats_performance_mean\",\n",
    "    ], :].plot.bar(ax=ax1)\n",
    "    \n",
    "    agg_df.loc[[\n",
    "        \"stats_difficulty_std\",\n",
    "        \"stats_variation_std\",\n",
    "        \"stats_refined_std\",\n",
    "        \"stats_performance_std\",\n",
    "    ], :].plot.bar(ax=ax2)\n",
    "    ax1.grid()\n",
    "    ax2.grid()"
   ]
  },
  {
   "cell_type": "markdown",
   "id": "652052b8-fa51-414c-aa4e-56af3e3c20d3",
   "metadata": {},
   "source": [
    "## 初期設定\n",
    "認証情報やらを読み込む"
   ]
  },
  {
   "cell_type": "code",
   "execution_count": null,
   "id": "282840c4-b5d3-4209-b53a-e23256241dc5",
   "metadata": {},
   "outputs": [],
   "source": [
    "# 設定ファイル\n",
    "conf_judge, conf_response_schema = read_conf(\n",
    "    \"./conf/demo/judge.yaml\",\n",
    "    \"./conf/demo/response_schema.yaml\",\n",
    ")\n",
    "\n",
    "# 認証\n",
    "gss_reader = GSSReader(conf_judge[\"gss\"])\n",
    "set_openai_apikey_from_file(conf_judge[\"chatgpt\"][\"secrets\"])"
   ]
  },
  {
   "cell_type": "markdown",
   "id": "acf60765-d794-49a5-a2c1-8a6a4b809bc9",
   "metadata": {},
   "source": [
    "### 書き出し先のSpreadSheetを作成\n",
    "スプレッドシートを作成しておく。一度作成したら作成する必要はない。"
   ]
  },
  {
   "cell_type": "code",
   "execution_count": null,
   "id": "9b00ca88-fb50-4934-a274-19bbdee38464",
   "metadata": {},
   "outputs": [],
   "source": [
    "# 審査シートを作成\n",
    "# folder_idはスプレッドシートを書き出し先のGoogle driverのFolderのID\n",
    "# gss_reader.gc.create(\"judge_result\", folder_id=\"1oQVk8aWfiXb0sJH8lLEq_fsZNMXcYRby\")"
   ]
  },
  {
   "cell_type": "markdown",
   "id": "f7162050-d94b-4124-916b-a9d7e4bd07ab",
   "metadata": {},
   "source": [
    "## 読み込みと前処理\n",
    "\n",
    "### 読み込むデータについて\n",
    "Spread Sheetはセクション機能を用いて以下のような構造になっている\n",
    "- 審査員名を入力する\n",
    "- 選手Aに対する審査\n",
    "- 選手Bに対する審査\n",
    "- ...\n",
    "- 選手xに対する審査\n",
    "\n",
    "Spread Sheetには以下のような形式で出力される。\n",
    "\n",
    "| タイムスタンプ | メールアドレス | 審査部門 | 回答者 | 難易度 | 多彩性度 | 操作安定度 | 演技構成度 | ... | 難易度 | 多彩性度 | 操作安定度 | 演技構成度 |\n",
    "| --- |  --- |  --- |  --- |  --- |  --- |  --- |  --- |  --- |  --- |  --- |  --- |  --- | \n",
    "| yyyy/mm/dd hh:mm:ss | hoge@email.address | トス | ジャッジ1 | hogehoge | fugafuga | piyopiyo | ... | ... | ... | ... | ... | ... | \n",
    "\n",
    "セクション分けしても、セクションの情報はカラムには乗らないので、以下のような縦持ちに変換する必要がある。\n",
    "\n",
    "| タイムスタンプ | メールアドレス | 審査部門 | 回答者 | 選手名 | 難易度 | 多彩性度 | 操作安定度 | 演技構成度 |\n",
    "| --- |  --- |  --- |  --- |  --- |  --- |  --- |  --- | --- |\n",
    "| yyyy/mm/dd hh:mm:ss | hoge@email.address | トス | ジャッジ1 | 選手A |hogehoge | fugafuga | piyopiyo | ... |"
   ]
  },
  {
   "cell_type": "code",
   "execution_count": null,
   "id": "bdce9eb2-c88f-4fed-979a-377e15fec69d",
   "metadata": {},
   "outputs": [],
   "source": [
    "judge_result, gss_conf = gss_reader.get_worksheet(\"toss\")\n",
    "\n",
    "display(judge_result)"
   ]
  },
  {
   "cell_type": "code",
   "execution_count": null,
   "id": "5fcaf6b8-e6a9-431d-adc9-e54c14ae0255",
   "metadata": {},
   "outputs": [],
   "source": [
    "# テスト用のレコードを省く\n",
    "judge_result = judge_result.query(\"回答者 != '運営'\")\n",
    "\n",
    "# 選手の数とジャッジの数\n",
    "print(\"部門\")\n",
    "judge_list = judge_result[\"回答者\"].unique()\n",
    "print(\"審査員: \", \",\".join(judge_list))\n",
    "print(f\"選手数: {len(gss_conf.player_order):d}\")\n",
    "display(judge_result.groupby(\"回答者\", as_index=False)[\"選手\"].nunique())"
   ]
  },
  {
   "cell_type": "markdown",
   "id": "717770e0-9453-41b7-93bf-258f14bb32ee",
   "metadata": {},
   "source": [
    "## 審査"
   ]
  },
  {
   "cell_type": "code",
   "execution_count": null,
   "id": "53a64206-4629-48ab-a5c1-b3f3ff04ae82",
   "metadata": {},
   "outputs": [],
   "source": [
    "gpt = JudgeGPT(\n",
    "    model=conf_judge[\"chatgpt\"][\"model\"],\n",
    "    conf_response_schema=conf_response_schema,\n",
    "    seed=conf_judge[\"chatgpt\"][\"seed\"],\n",
    "    column_info=ColumnInfo(judge=\"回答者\", player=\"選手\"),\n",
    ")"
   ]
  },
  {
   "cell_type": "code",
   "execution_count": null,
   "id": "ae511efd-4c50-433e-ad29-446189aeaf1c",
   "metadata": {},
   "outputs": [],
   "source": [
    "# promptの作成\n",
    "prompts = gpt.make_prompt(\n",
    "    judge_list, \n",
    "    judge_result,\n",
    "    gss_conf=gss_conf,\n",
    "    system_prompt=conf_judge[\"chatgpt\"][\"prompt_judge\"].format(template=gss_conf.template)\n",
    ")"
   ]
  },
  {
   "cell_type": "code",
   "execution_count": null,
   "id": "6cee1e05-0ce6-450b-94ec-a9482ce93540",
   "metadata": {},
   "outputs": [],
   "source": [
    "# chatgptへリクエスト\n",
    "res_log, df_judge_result_all = gpt.call_chatgpt(prompts)"
   ]
  },
  {
   "cell_type": "code",
   "execution_count": null,
   "id": "37372467-d43f-4541-9db4-685522291d50",
   "metadata": {},
   "outputs": [],
   "source": [
    "# テーブルの表示\n",
    "display(df_judge_result_all)\n",
    "\n",
    "# 審査情報の可視化\n",
    "plot_judge_stats(df_judge_result_all, gss_conf.player_order)\n",
    "\n",
    "# 選手毎の平均点を計算\n",
    "df_judge_result_all.groupby(\"player_name\", as_index=False)[[\"difficulty\", \"variation\", \"refined\", \"performance\"]].mean()"
   ]
  },
  {
   "cell_type": "markdown",
   "id": "5de68e2a-0bbb-4d08-8423-07443dcdc410",
   "metadata": {},
   "source": [
    "### 審査結果書き出し¶"
   ]
  },
  {
   "cell_type": "code",
   "execution_count": null,
   "id": "ce25daa5-9c33-4847-9112-52f0366bef18",
   "metadata": {},
   "outputs": [],
   "source": [
    "judge_result_sheet = gss_reader.gc.open_by_key(conf_judge[\"gss\"][\"output\"][\"key\"])"
   ]
  },
  {
   "cell_type": "code",
   "execution_count": null,
   "id": "e530a426-cb6c-4949-9ed0-52e29b8c52ee",
   "metadata": {},
   "outputs": [],
   "source": [
    "try: \n",
    "    ws = judge_result_sheet.worksheet(\"トスジャグリング\")\n",
    "except gspread.WorksheetNotFound as e:\n",
    "    ws = judge_result_sheet.add_worksheet(title=\"トスジャグリング\", rows=200, cols=200)\n",
    "except Exception as e:\n",
    "    raise e"
   ]
  },
  {
   "cell_type": "code",
   "execution_count": null,
   "id": "56bb6515-b618-4c4f-a486-cdd93b56af65",
   "metadata": {},
   "outputs": [],
   "source": [
    "gss_reader.insert_dataframe_to_ws(\n",
    "    ws,\n",
    "    df_judge_result_all,\n",
    "    add_filter=True,\n",
    ")"
   ]
  },
  {
   "cell_type": "markdown",
   "id": "42697207-10c1-47e9-a668-637456bd0db7",
   "metadata": {},
   "source": [
    "### 審査結果要約\n",
    "UIでChatGPTに投げる用の情報に変換\n",
    "\n",
    "一番最初のプロンプト\n",
    "```\n",
    "あなたはジャグリングの大会で、審査員の役割を担うChatGPTです。大会では、パフォーマンスごとに審査員が採点項目に基づいて評価コメントを記述します。あなたはこれらのコメントと採点項目をもとに、各選手のパフォーマンスを点数化し、その評価を要約して説明する役割を持ちます。選手ごとに複数の審査員から提供される評価コメントを結合して渡すので、審査員の総評として要約し説明することが求められます。\n",
    "元となる評価コメントは以下の観点で作成されています。\n",
    "1. 難易度\n",
    "2. 多彩性度\n",
    "3. 操作安定度\n",
    "4. 演技構成\n",
    "です。\n",
    "```"
   ]
  },
  {
   "cell_type": "code",
   "execution_count": null,
   "id": "472f8b9f-e0b6-4276-851e-c0d573c3f48f",
   "metadata": {},
   "outputs": [],
   "source": [
    "players = df_judge_result_all[\"player_name\"].unique()\n",
    "for player in players:\n",
    "    print(f\"{player}: -----------------\")\n",
    "    descriptions = df_judge_result_all.query(f\"player_name == '{player}'\")[\"desc\"].unique()\n",
    "    print(\"\\n\".join(descriptions))\n",
    "    "
   ]
  },
  {
   "cell_type": "code",
   "execution_count": null,
   "id": "a3a36ab9-09f8-4504-bb70-4de30ef59a35",
   "metadata": {},
   "outputs": [],
   "source": []
  }
 ],
 "metadata": {
  "kernelspec": {
   "display_name": "judge_gpt",
   "language": "python",
   "name": "judge_gpt"
  },
  "language_info": {
   "codemirror_mode": {
    "name": "ipython",
    "version": 3
   },
   "file_extension": ".py",
   "mimetype": "text/x-python",
   "name": "python",
   "nbconvert_exporter": "python",
   "pygments_lexer": "ipython3",
   "version": "3.11.3"
  }
 },
 "nbformat": 4,
 "nbformat_minor": 5
}
