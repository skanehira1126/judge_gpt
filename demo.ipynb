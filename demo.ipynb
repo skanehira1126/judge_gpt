{
 "cells": [
  {
   "cell_type": "markdown",
   "id": "7ab720bb-0818-4021-b6a9-f215631822c3",
   "metadata": {},
   "source": [
    "## デモ"
   ]
  },
  {
   "cell_type": "code",
   "execution_count": 3,
   "id": "90d3a951-da20-413d-8d2d-4839ee3cfd58",
   "metadata": {},
   "outputs": [],
   "source": [
    "import sys\n",
    "import openai\n",
    "\n",
    "sys.path.append(\"./src\")\n",
    "\n",
    "from judge_gpt.auth import set_apikey_from_file\n",
    "\n",
    "set_apikey_from_file(\"./openai.key\")"
   ]
  },
  {
   "cell_type": "code",
   "execution_count": null,
   "id": "51268b45-3b44-4c23-8726-c061504cb2bf",
   "metadata": {},
   "outputs": [],
   "source": [
    "# とりあえずジャグリングを聞いてみる\n",
    "res = openai.ChatCompletion.create(\n",
    "    model=\"gpt-3.5-turbo\",\n",
    "    messages=[\n",
    "        {\"role\": \"user\", \"content\": \"ジャグリングについて教えてください。\"},\n",
    "    ],\n",
    ")\n",
    "\n"
   ]
  },
  {
   "cell_type": "code",
   "execution_count": 5,
   "id": "f9a07d92-ff5c-406e-9db4-4e32eb36f588",
   "metadata": {},
   "outputs": [
    {
     "name": "stdout",
     "output_type": "stream",
     "text": [
      "ジャグリングは、一般的には複数のオブジェクト（通常はボールやクラブ）を空中で捕まえたり投げたりする技術的なアクティビティです。ジャグリングの技術は、見た目の効果やミスティックな要素、身体的な調整など、さまざまな要素で構成されています。\n",
      "\n",
      "ジャグリング技術の基本は、オブジェクトを適切な強さと角度で投げることです。初心者は通常、片手でオブジェクトを投げたり捕まえたりすることから始めますが、上級者は両手を使ったり、複数のオブジェクトを同時に操作したりすることができます。\n",
      "\n",
      "ジャグリングの練習方法は、少しずつスキルレベルを高めながら練習を重ねることです。まず、基本的な投げ方をマスターし、オブジェクトの投げる高さや速度をコントロールできるようにします。次に、さまざまなパターンやトリックを習得し、それらを組み合わせることで複雑なルーティンを作ることができます。\n",
      "\n",
      "ジャグリングの技術は、身体の協調性、反射神経、集中力、空間認識能力など、様々なスキルを養うのに役立ちます。また、ジャグリングは楽しいエンターテイメントアクティビティでもあり、パフォーマンスやショーやイベントで活躍する人々もいます。\n",
      "\n",
      "ジャグリングには様々な種類がありますが、その中でも一般的なものにはボールジャグリング、クラブジャグリング、リングジャグリングがあります。それぞれの種類は少し異なるテクニックを要求しますが、基本的な原則やスキルは同じです。\n",
      "\n",
      "ジャグリングを始めるには、まずは自分が興味を持っているジャグリングの種類を選び、基本的な技術から始めることをおすすめします。また、インターネットには多くのジャグリング教材やチュートリアルがありますので、そちらを活用することも良いでしょう。最初は簡単なトリックから始めて、自分の能力や進行度に応じて難易度を上げていくようにしましょう。\n"
     ]
    }
   ],
   "source": [
    "# 返答を出力\n",
    "print(res.choices[0][\"message\"][\"content\"])"
   ]
  },
  {
   "cell_type": "code",
   "execution_count": 6,
   "id": "49853405-242a-463e-a219-49569a3b5159",
   "metadata": {},
   "outputs": [
    {
     "data": {
      "text/plain": [
       "<OpenAIObject chat.completion id=chatcmpl-89Xx9MYgjmcJo5gd9plIAsWa1IFP8 at 0x10d3389b0> JSON: {\n",
       "  \"id\": \"chatcmpl-89Xx9MYgjmcJo5gd9plIAsWa1IFP8\",\n",
       "  \"object\": \"chat.completion\",\n",
       "  \"created\": 1697286159,\n",
       "  \"model\": \"gpt-3.5-turbo-0613\",\n",
       "  \"choices\": [\n",
       "    {\n",
       "      \"index\": 0,\n",
       "      \"message\": {\n",
       "        \"role\": \"assistant\",\n",
       "        \"content\": \"\\u30b8\\u30e3\\u30b0\\u30ea\\u30f3\\u30b0\\u306f\\u3001\\u4e00\\u822c\\u7684\\u306b\\u306f\\u8907\\u6570\\u306e\\u30aa\\u30d6\\u30b8\\u30a7\\u30af\\u30c8\\uff08\\u901a\\u5e38\\u306f\\u30dc\\u30fc\\u30eb\\u3084\\u30af\\u30e9\\u30d6\\uff09\\u3092\\u7a7a\\u4e2d\\u3067\\u6355\\u307e\\u3048\\u305f\\u308a\\u6295\\u3052\\u305f\\u308a\\u3059\\u308b\\u6280\\u8853\\u7684\\u306a\\u30a2\\u30af\\u30c6\\u30a3\\u30d3\\u30c6\\u30a3\\u3067\\u3059\\u3002\\u30b8\\u30e3\\u30b0\\u30ea\\u30f3\\u30b0\\u306e\\u6280\\u8853\\u306f\\u3001\\u898b\\u305f\\u76ee\\u306e\\u52b9\\u679c\\u3084\\u30df\\u30b9\\u30c6\\u30a3\\u30c3\\u30af\\u306a\\u8981\\u7d20\\u3001\\u8eab\\u4f53\\u7684\\u306a\\u8abf\\u6574\\u306a\\u3069\\u3001\\u3055\\u307e\\u3056\\u307e\\u306a\\u8981\\u7d20\\u3067\\u69cb\\u6210\\u3055\\u308c\\u3066\\u3044\\u307e\\u3059\\u3002\\n\\n\\u30b8\\u30e3\\u30b0\\u30ea\\u30f3\\u30b0\\u6280\\u8853\\u306e\\u57fa\\u672c\\u306f\\u3001\\u30aa\\u30d6\\u30b8\\u30a7\\u30af\\u30c8\\u3092\\u9069\\u5207\\u306a\\u5f37\\u3055\\u3068\\u89d2\\u5ea6\\u3067\\u6295\\u3052\\u308b\\u3053\\u3068\\u3067\\u3059\\u3002\\u521d\\u5fc3\\u8005\\u306f\\u901a\\u5e38\\u3001\\u7247\\u624b\\u3067\\u30aa\\u30d6\\u30b8\\u30a7\\u30af\\u30c8\\u3092\\u6295\\u3052\\u305f\\u308a\\u6355\\u307e\\u3048\\u305f\\u308a\\u3059\\u308b\\u3053\\u3068\\u304b\\u3089\\u59cb\\u3081\\u307e\\u3059\\u304c\\u3001\\u4e0a\\u7d1a\\u8005\\u306f\\u4e21\\u624b\\u3092\\u4f7f\\u3063\\u305f\\u308a\\u3001\\u8907\\u6570\\u306e\\u30aa\\u30d6\\u30b8\\u30a7\\u30af\\u30c8\\u3092\\u540c\\u6642\\u306b\\u64cd\\u4f5c\\u3057\\u305f\\u308a\\u3059\\u308b\\u3053\\u3068\\u304c\\u3067\\u304d\\u307e\\u3059\\u3002\\n\\n\\u30b8\\u30e3\\u30b0\\u30ea\\u30f3\\u30b0\\u306e\\u7df4\\u7fd2\\u65b9\\u6cd5\\u306f\\u3001\\u5c11\\u3057\\u305a\\u3064\\u30b9\\u30ad\\u30eb\\u30ec\\u30d9\\u30eb\\u3092\\u9ad8\\u3081\\u306a\\u304c\\u3089\\u7df4\\u7fd2\\u3092\\u91cd\\u306d\\u308b\\u3053\\u3068\\u3067\\u3059\\u3002\\u307e\\u305a\\u3001\\u57fa\\u672c\\u7684\\u306a\\u6295\\u3052\\u65b9\\u3092\\u30de\\u30b9\\u30bf\\u30fc\\u3057\\u3001\\u30aa\\u30d6\\u30b8\\u30a7\\u30af\\u30c8\\u306e\\u6295\\u3052\\u308b\\u9ad8\\u3055\\u3084\\u901f\\u5ea6\\u3092\\u30b3\\u30f3\\u30c8\\u30ed\\u30fc\\u30eb\\u3067\\u304d\\u308b\\u3088\\u3046\\u306b\\u3057\\u307e\\u3059\\u3002\\u6b21\\u306b\\u3001\\u3055\\u307e\\u3056\\u307e\\u306a\\u30d1\\u30bf\\u30fc\\u30f3\\u3084\\u30c8\\u30ea\\u30c3\\u30af\\u3092\\u7fd2\\u5f97\\u3057\\u3001\\u305d\\u308c\\u3089\\u3092\\u7d44\\u307f\\u5408\\u308f\\u305b\\u308b\\u3053\\u3068\\u3067\\u8907\\u96d1\\u306a\\u30eb\\u30fc\\u30c6\\u30a3\\u30f3\\u3092\\u4f5c\\u308b\\u3053\\u3068\\u304c\\u3067\\u304d\\u307e\\u3059\\u3002\\n\\n\\u30b8\\u30e3\\u30b0\\u30ea\\u30f3\\u30b0\\u306e\\u6280\\u8853\\u306f\\u3001\\u8eab\\u4f53\\u306e\\u5354\\u8abf\\u6027\\u3001\\u53cd\\u5c04\\u795e\\u7d4c\\u3001\\u96c6\\u4e2d\\u529b\\u3001\\u7a7a\\u9593\\u8a8d\\u8b58\\u80fd\\u529b\\u306a\\u3069\\u3001\\u69d8\\u3005\\u306a\\u30b9\\u30ad\\u30eb\\u3092\\u990a\\u3046\\u306e\\u306b\\u5f79\\u7acb\\u3061\\u307e\\u3059\\u3002\\u307e\\u305f\\u3001\\u30b8\\u30e3\\u30b0\\u30ea\\u30f3\\u30b0\\u306f\\u697d\\u3057\\u3044\\u30a8\\u30f3\\u30bf\\u30fc\\u30c6\\u30a4\\u30e1\\u30f3\\u30c8\\u30a2\\u30af\\u30c6\\u30a3\\u30d3\\u30c6\\u30a3\\u3067\\u3082\\u3042\\u308a\\u3001\\u30d1\\u30d5\\u30a9\\u30fc\\u30de\\u30f3\\u30b9\\u3084\\u30b7\\u30e7\\u30fc\\u3084\\u30a4\\u30d9\\u30f3\\u30c8\\u3067\\u6d3b\\u8e8d\\u3059\\u308b\\u4eba\\u3005\\u3082\\u3044\\u307e\\u3059\\u3002\\n\\n\\u30b8\\u30e3\\u30b0\\u30ea\\u30f3\\u30b0\\u306b\\u306f\\u69d8\\u3005\\u306a\\u7a2e\\u985e\\u304c\\u3042\\u308a\\u307e\\u3059\\u304c\\u3001\\u305d\\u306e\\u4e2d\\u3067\\u3082\\u4e00\\u822c\\u7684\\u306a\\u3082\\u306e\\u306b\\u306f\\u30dc\\u30fc\\u30eb\\u30b8\\u30e3\\u30b0\\u30ea\\u30f3\\u30b0\\u3001\\u30af\\u30e9\\u30d6\\u30b8\\u30e3\\u30b0\\u30ea\\u30f3\\u30b0\\u3001\\u30ea\\u30f3\\u30b0\\u30b8\\u30e3\\u30b0\\u30ea\\u30f3\\u30b0\\u304c\\u3042\\u308a\\u307e\\u3059\\u3002\\u305d\\u308c\\u305e\\u308c\\u306e\\u7a2e\\u985e\\u306f\\u5c11\\u3057\\u7570\\u306a\\u308b\\u30c6\\u30af\\u30cb\\u30c3\\u30af\\u3092\\u8981\\u6c42\\u3057\\u307e\\u3059\\u304c\\u3001\\u57fa\\u672c\\u7684\\u306a\\u539f\\u5247\\u3084\\u30b9\\u30ad\\u30eb\\u306f\\u540c\\u3058\\u3067\\u3059\\u3002\\n\\n\\u30b8\\u30e3\\u30b0\\u30ea\\u30f3\\u30b0\\u3092\\u59cb\\u3081\\u308b\\u306b\\u306f\\u3001\\u307e\\u305a\\u306f\\u81ea\\u5206\\u304c\\u8208\\u5473\\u3092\\u6301\\u3063\\u3066\\u3044\\u308b\\u30b8\\u30e3\\u30b0\\u30ea\\u30f3\\u30b0\\u306e\\u7a2e\\u985e\\u3092\\u9078\\u3073\\u3001\\u57fa\\u672c\\u7684\\u306a\\u6280\\u8853\\u304b\\u3089\\u59cb\\u3081\\u308b\\u3053\\u3068\\u3092\\u304a\\u3059\\u3059\\u3081\\u3057\\u307e\\u3059\\u3002\\u307e\\u305f\\u3001\\u30a4\\u30f3\\u30bf\\u30fc\\u30cd\\u30c3\\u30c8\\u306b\\u306f\\u591a\\u304f\\u306e\\u30b8\\u30e3\\u30b0\\u30ea\\u30f3\\u30b0\\u6559\\u6750\\u3084\\u30c1\\u30e5\\u30fc\\u30c8\\u30ea\\u30a2\\u30eb\\u304c\\u3042\\u308a\\u307e\\u3059\\u306e\\u3067\\u3001\\u305d\\u3061\\u3089\\u3092\\u6d3b\\u7528\\u3059\\u308b\\u3053\\u3068\\u3082\\u826f\\u3044\\u3067\\u3057\\u3087\\u3046\\u3002\\u6700\\u521d\\u306f\\u7c21\\u5358\\u306a\\u30c8\\u30ea\\u30c3\\u30af\\u304b\\u3089\\u59cb\\u3081\\u3066\\u3001\\u81ea\\u5206\\u306e\\u80fd\\u529b\\u3084\\u9032\\u884c\\u5ea6\\u306b\\u5fdc\\u3058\\u3066\\u96e3\\u6613\\u5ea6\\u3092\\u4e0a\\u3052\\u3066\\u3044\\u304f\\u3088\\u3046\\u306b\\u3057\\u307e\\u3057\\u3087\\u3046\\u3002\"\n",
       "      },\n",
       "      \"finish_reason\": \"stop\"\n",
       "    }\n",
       "  ],\n",
       "  \"usage\": {\n",
       "    \"prompt_tokens\": 22,\n",
       "    \"completion_tokens\": 787,\n",
       "    \"total_tokens\": 809\n",
       "  }\n",
       "}"
      ]
     },
     "execution_count": 6,
     "metadata": {},
     "output_type": "execute_result"
    }
   ],
   "source": [
    "res"
   ]
  },
  {
   "cell_type": "code",
   "execution_count": null,
   "id": "30b52719-702d-405a-95b1-8417d11154e8",
   "metadata": {},
   "outputs": [],
   "source": []
  }
 ],
 "metadata": {
  "kernelspec": {
   "display_name": "Python 3 (ipykernel)",
   "language": "python",
   "name": "python3"
  },
  "language_info": {
   "codemirror_mode": {
    "name": "ipython",
    "version": 3
   },
   "file_extension": ".py",
   "mimetype": "text/x-python",
   "name": "python",
   "nbconvert_exporter": "python",
   "pygments_lexer": "ipython3",
   "version": "3.11.6"
  }
 },
 "nbformat": 4,
 "nbformat_minor": 5
}
