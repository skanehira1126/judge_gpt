{
 "cells": [
  {
   "cell_type": "code",
   "execution_count": null,
   "id": "2d289316-fbf1-4b5b-ada9-9e28d2bc513b",
   "metadata": {},
   "outputs": [],
   "source": [
    "# パッケージ更新の場合にはこれを実施\n",
    "# !rye sync"
   ]
  },
  {
   "cell_type": "code",
   "execution_count": null,
   "id": "10c2bb23-88af-4a85-b4d9-f8c2588d905b",
   "metadata": {},
   "outputs": [],
   "source": [
    "import json\n",
    "import pathlib\n",
    "from pprint import pprint\n",
    "import sys\n",
    "\n",
    "import openai\n",
    "import numpy as np\n",
    "import pandas as pd\n",
    "import matplotlib.pyplot as plt\n",
    "import japanize_matplotlib\n",
    "from tqdm.auto import tqdm\n",
    "import gspread\n",
    "\n",
    "from judge_gpt import JudgeGPT, ColumnInfo\n",
    "from judge_gpt.auth import auth_gcloud, set_openai_apikey_from_file\n",
    "from judge_gpt.conf import read_conf\n",
    "from judge_gpt.gss_reader import GSSReader\n",
    "\n",
    "\n",
    "def plot_judge_stats(df_judge: pd.DataFrame, players: list[str]):\n",
    "    agg_df = df_judge.groupby(\"judge\", as_index=False).agg(\n",
    "        player_count=(\"player_name\", lambda x : len(set(x))),\n",
    "        stats_difficulty_mean=(\"difficulty\", \"mean\"),\n",
    "        stats_variation_mean=(\"variation\", \"mean\"),\n",
    "        stats_refined_mean=(\"refined\", \"mean\"),\n",
    "        stats_performance_mean=(\"performance\", \"mean\"),\n",
    "        stats_difficulty_std=(\"difficulty\", \"std\"),\n",
    "        stats_variation_std=(\"variation\", \"std\"),\n",
    "        stats_refined_std=(\"refined\", \"std\"),\n",
    "        stats_performance_std=(\"performance\", \"std\"),\n",
    "    )\n",
    "    \n",
    "    assert (agg_df[\"player_count\"] == len(players)).all(), \"Judge result is missing\"\n",
    "    \n",
    "    agg_df = agg_df.set_index(\"judge\").T\n",
    "    display(agg_df)\n",
    "    \n",
    "    fig, (ax1, ax2) = plt.subplots(1, 2, figsize=(8, 4))\n",
    "    agg_df.loc[[\n",
    "        \"stats_difficulty_mean\",\n",
    "        \"stats_variation_mean\",\n",
    "        \"stats_refined_mean\",\n",
    "        \"stats_performance_mean\",\n",
    "    ], :].plot.bar(ax=ax1)\n",
    "    \n",
    "    agg_df.loc[[\n",
    "        \"stats_difficulty_std\",\n",
    "        \"stats_variation_std\",\n",
    "        \"stats_refined_std\",\n",
    "        \"stats_performance_std\",\n",
    "    ], :].plot.bar(ax=ax2)\n",
    "    ax1.grid()\n",
    "    ax2.grid()"
   ]
  },
  {
   "cell_type": "markdown",
   "id": "652052b8-fa51-414c-aa4e-56af3e3c20d3",
   "metadata": {},
   "source": [
    "## 初期設定\n",
    "認証情報やら設定やらを読み込む"
   ]
  },
  {
   "cell_type": "code",
   "execution_count": null,
   "id": "282840c4-b5d3-4209-b53a-e23256241dc5",
   "metadata": {},
   "outputs": [],
   "source": [
    "# 設定ファイル\n",
    "conf_judge, conf_response_schema = read_conf(\n",
    "    \"./conf/demo/judge.yaml\",\n",
    "    \"./conf/demo/response_schema.yaml\",\n",
    ")\n",
    "\n",
    "# 認証\n",
    "gss_reader = GSSReader(conf_judge[\"gss\"])\n",
    "set_openai_apikey_from_file(conf_judge[\"chatgpt\"][\"secrets\"])"
   ]
  },
  {
   "cell_type": "markdown",
   "id": "acf60765-d794-49a5-a2c1-8a6a4b809bc9",
   "metadata": {},
   "source": [
    "### 書き出し先のSpreadSheetを作成\n",
    "スプレッドシートを作成しておく。一度作成したら作成する必要はない。"
   ]
  },
  {
   "cell_type": "code",
   "execution_count": null,
   "id": "9b00ca88-fb50-4934-a274-19bbdee38464",
   "metadata": {},
   "outputs": [],
   "source": [
    "# 審査シートを作成\n",
    "# folder_idはスプレッドシートを書き出し先のGoogle driverのFolderのID\n",
    "# gss_reader.gc.create(\"judge_result\", folder_id=\"1oQVk8aWfiXb0sJH8lLEq_fsZNMXcYRby\")"
   ]
  },
  {
   "cell_type": "markdown",
   "id": "f7162050-d94b-4124-916b-a9d7e4bd07ab",
   "metadata": {},
   "source": [
    "## 読み込みと前処理"
   ]
  },
  {
   "cell_type": "code",
   "execution_count": null,
   "id": "bdce9eb2-c88f-4fed-979a-377e15fec69d",
   "metadata": {},
   "outputs": [],
   "source": [
    "judge_result_toss, gss_conf_toss = gss_reader.get_worksheet(\"toss\")\n",
    "\n",
    "display(judge_result_toss)"
   ]
  },
  {
   "cell_type": "code",
   "execution_count": null,
   "id": "5fcaf6b8-e6a9-431d-adc9-e54c14ae0255",
   "metadata": {},
   "outputs": [],
   "source": [
    "# テスト用のレコードを省く\n",
    "judge_result_toss = judge_result_toss.query(\"回答者 != '運営'\")\n",
    "\n",
    "# 選手の数とジャッジの数\n",
    "print(\"トス部門\")\n",
    "judge_list_toss = judge_result_toss[\"回答者\"].unique()\n",
    "print(\"審査員: \", \",\".join(judge_list_toss))\n",
    "print(f\"選手数: {len(gss_conf_toss.player_order):d}\")\n",
    "display(judge_result_toss.groupby(\"回答者\", as_index=False)[\"選手\"].nunique())"
   ]
  },
  {
   "cell_type": "markdown",
   "id": "717770e0-9453-41b7-93bf-258f14bb32ee",
   "metadata": {},
   "source": [
    "## 審査"
   ]
  },
  {
   "cell_type": "code",
   "execution_count": null,
   "id": "53a64206-4629-48ab-a5c1-b3f3ff04ae82",
   "metadata": {},
   "outputs": [],
   "source": [
    "gpt = JudgeGPT(\n",
    "    model=conf_judge[\"chatgpt\"][\"model\"],\n",
    "    conf_response_schema=conf_response_schema,\n",
    "    seed=conf_judge[\"chatgpt\"][\"seed\"],\n",
    "    column_info=ColumnInfo(judge=\"回答者\", player=\"選手\"),\n",
    ")"
   ]
  },
  {
   "cell_type": "markdown",
   "id": "37c4ce72-b7b4-4960-a727-75db3bcd7ec0",
   "metadata": {},
   "source": [
    "## トスの審査\n"
   ]
  },
  {
   "cell_type": "code",
   "execution_count": null,
   "id": "ae511efd-4c50-433e-ad29-446189aeaf1c",
   "metadata": {},
   "outputs": [],
   "source": [
    "prompts_toss = gpt.make_prompt(\n",
    "    judge_list_toss, \n",
    "    judge_result_toss,\n",
    "    gss_conf=gss_conf_toss,\n",
    "    system_prompt=conf_judge[\"chatgpt\"][\"prompt_judge\"].format(template=gss_conf_toss.template)\n",
    ")"
   ]
  },
  {
   "cell_type": "code",
   "execution_count": null,
   "id": "6cee1e05-0ce6-450b-94ec-a9482ce93540",
   "metadata": {},
   "outputs": [],
   "source": [
    "res_log_toss, df_judge_result_all_toss = gpt.call_chatgpt(prompts_toss)"
   ]
  },
  {
   "cell_type": "code",
   "execution_count": null,
   "id": "1f809688-c115-49ef-a404-82ffd7237a8a",
   "metadata": {},
   "outputs": [],
   "source": [
    "plot_judge_stats(df_judge_result_all_toss, gss_conf_toss.player_order)"
   ]
  },
  {
   "cell_type": "code",
   "execution_count": null,
   "id": "d1d1ed61-6a64-4129-83d7-c5c391a29927",
   "metadata": {},
   "outputs": [],
   "source": [
    "display(df_judge_result_all_toss)"
   ]
  },
  {
   "cell_type": "code",
   "execution_count": null,
   "id": "68b7ce8a-1263-4e84-9c8f-50b64e806084",
   "metadata": {},
   "outputs": [],
   "source": [
    "df_judge_result_all_toss.groupby(\"player_name\", as_index=False)[[\"difficulty\", \"variation\", \"refined\", \"performance\"]].mean()"
   ]
  },
  {
   "cell_type": "markdown",
   "id": "5de68e2a-0bbb-4d08-8423-07443dcdc410",
   "metadata": {},
   "source": [
    "### 審査結果書き出し¶"
   ]
  },
  {
   "cell_type": "code",
   "execution_count": null,
   "id": "ce25daa5-9c33-4847-9112-52f0366bef18",
   "metadata": {},
   "outputs": [],
   "source": [
    "judge_result_sheet = gss_reader.gc.open_by_key(conf_judge[\"gss\"][\"output\"][\"key\"])"
   ]
  },
  {
   "cell_type": "code",
   "execution_count": null,
   "id": "e530a426-cb6c-4949-9ed0-52e29b8c52ee",
   "metadata": {},
   "outputs": [],
   "source": [
    "try: \n",
    "    ws_toss = judge_result_sheet.worksheet(\"トスジャグリング\")\n",
    "except gspread.WorksheetNotFound as e:\n",
    "    ws_toss = judge_result_sheet.add_worksheet(title=\"トスジャグリング\", rows=200, cols=200)\n",
    "except Exception as e:\n",
    "    raise e"
   ]
  },
  {
   "cell_type": "code",
   "execution_count": null,
   "id": "56bb6515-b618-4c4f-a486-cdd93b56af65",
   "metadata": {},
   "outputs": [],
   "source": [
    "gss_reader.insert_dataframe_to_ws(\n",
    "    ws_toss,\n",
    "    df_judge_result_all_toss,\n",
    "    add_filter=True,\n",
    ")"
   ]
  },
  {
   "cell_type": "markdown",
   "id": "42697207-10c1-47e9-a668-637456bd0db7",
   "metadata": {},
   "source": [
    "### 審査結果要約"
   ]
  },
  {
   "cell_type": "code",
   "execution_count": null,
   "id": "472f8b9f-e0b6-4276-851e-c0d573c3f48f",
   "metadata": {},
   "outputs": [],
   "source": [
    "players = df_judge_result_all_toss[\"player_name\"].unique()\n",
    "for player in players:\n",
    "    print(f\"{player}: -----------------\")\n",
    "    descriptions = df_judge_result_all_toss.query(f\"player_name == '{player}'\")[\"desc\"].unique()\n",
    "    print(\"\\n\".join(descriptions))\n",
    "    "
   ]
  },
  {
   "cell_type": "code",
   "execution_count": null,
   "id": "a3a36ab9-09f8-4504-bb70-4de30ef59a35",
   "metadata": {},
   "outputs": [],
   "source": []
  }
 ],
 "metadata": {
  "kernelspec": {
   "display_name": "judge_gpt",
   "language": "python",
   "name": "judge_gpt"
  },
  "language_info": {
   "codemirror_mode": {
    "name": "ipython",
    "version": 3
   },
   "file_extension": ".py",
   "mimetype": "text/x-python",
   "name": "python",
   "nbconvert_exporter": "python",
   "pygments_lexer": "ipython3",
   "version": "3.11.3"
  }
 },
 "nbformat": 4,
 "nbformat_minor": 5
}
